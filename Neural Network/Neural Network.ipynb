{
 "cells": [
  {
   "cell_type": "code",
   "execution_count": 286,
   "id": "4d0db93e",
   "metadata": {},
   "outputs": [],
   "source": [
    "import pandas as pd\n",
    "import numpy as np\n",
    "import matplotlib.pyplot as plt\n",
    "from scipy.io import loadmat"
   ]
  },
  {
   "cell_type": "markdown",
   "id": "dfef62c6",
   "metadata": {},
   "source": [
    "Load the handwritten dataset"
   ]
  },
  {
   "cell_type": "code",
   "execution_count": 287,
   "id": "0431c209",
   "metadata": {},
   "outputs": [],
   "source": [
    "digits_dataset = loadmat(\"Handwritten Digits.mat\")"
   ]
  },
  {
   "cell_type": "code",
   "execution_count": 288,
   "id": "c26fac53",
   "metadata": {},
   "outputs": [],
   "source": [
    "X, y = digits_dataset[\"X\"],digits_dataset[\"y\"]"
   ]
  },
  {
   "cell_type": "markdown",
   "id": "1ed90473",
   "metadata": {},
   "source": [
    "## Shape the Output"
   ]
  },
  {
   "cell_type": "code",
   "execution_count": 289,
   "id": "baae5107",
   "metadata": {},
   "outputs": [
    {
     "data": {
      "text/plain": [
       "(5000, 1)"
      ]
     },
     "execution_count": 289,
     "metadata": {},
     "output_type": "execute_result"
    }
   ],
   "source": [
    "y.shape"
   ]
  },
  {
   "cell_type": "code",
   "execution_count": 290,
   "id": "f224af5e",
   "metadata": {},
   "outputs": [
    {
     "data": {
      "text/plain": [
       "array([10, 10, 10, ...,  9,  9,  9], dtype=uint8)"
      ]
     },
     "execution_count": 290,
     "metadata": {},
     "output_type": "execute_result"
    }
   ],
   "source": [
    "y = y.ravel()\n",
    "y"
   ]
  },
  {
   "cell_type": "code",
   "execution_count": 291,
   "id": "08c8a286",
   "metadata": {},
   "outputs": [
    {
     "data": {
      "text/plain": [
       "array([0, 0, 0, ..., 9, 9, 9], dtype=uint8)"
      ]
     },
     "execution_count": 291,
     "metadata": {},
     "output_type": "execute_result"
    }
   ],
   "source": [
    "y[y==10]=0\n",
    "y"
   ]
  },
  {
   "cell_type": "markdown",
   "id": "7553e93a",
   "metadata": {},
   "source": [
    "## Visualize the plot"
   ]
  },
  {
   "cell_type": "code",
   "execution_count": 292,
   "id": "c566d910",
   "metadata": {},
   "outputs": [
    {
     "data": {
      "image/png": "[encoded data removed]",
      "text/plain": [
       "<Figure size 432x288 with 10 Axes>"
      ]
     },
     "metadata": {
      "needs_background": "light"
     },
     "output_type": "display_data"
    }
   ],
   "source": [
    "nrows = 5\n",
    "ncols =2\n",
    "fig,axes = plt.subplots(nrows=nrows,ncols=ncols)\n",
    "\n",
    "image_index = 0\n",
    "for i in range(nrows):\n",
    "    for j in range(ncols):\n",
    "        axes[i,j].imshow(X[image_index].reshape(20,20,order='F'),cmap='Greys')\n",
    "        fig.tight_layout()\n",
    "        if(image_index+500)==5000:\n",
    "            break\n",
    "        image_index +=500"
   ]
  },
  {
   "cell_type": "markdown",
   "id": "b66371c9",
   "metadata": {},
   "source": [
    "## Neural Network Model "
   ]
  },
  {
   "cell_type": "code",
   "execution_count": 293,
   "id": "e251b9a7",
   "metadata": {},
   "outputs": [
    {
     "data": {
      "text/plain": [
       "array([[1., 0., 0., ..., 0., 0., 0.],\n",
       "       [1., 0., 0., ..., 0., 0., 0.],\n",
       "       [1., 0., 0., ..., 0., 0., 0.],\n",
       "       ...,\n",
       "       [0., 0., 0., ..., 0., 0., 1.],\n",
       "       [0., 0., 0., ..., 0., 0., 1.],\n",
       "       [0., 0., 0., ..., 0., 0., 1.]])"
      ]
     },
     "execution_count": 293,
     "metadata": {},
     "output_type": "execute_result"
    }
   ],
   "source": [
    "y_org = np.zeros((y.shape[0],10))\n",
    "for i in range(len(y)):\n",
    "    y_org[i][y[i]] = 1\n",
    "    \n",
    "y_org"
   ]
  },
  {
   "cell_type": "code",
   "execution_count": 294,
   "id": "41d5c055",
   "metadata": {},
   "outputs": [],
   "source": [
    "def Size_of_Layers(X,y,nh):\n",
    "    nx = 400\n",
    "    ny = 10\n",
    "    nh = nh\n",
    "    \n",
    "    return (nx,ny,nh)"
   ]
  },
  {
   "cell_type": "code",
   "execution_count": 295,
   "id": "91ee3662",
   "metadata": {},
   "outputs": [
    {
     "name": "stdout",
     "output_type": "stream",
     "text": [
      "Size of Input Layer: nx =  400\n",
      "Size of Output Layer: ny =  10\n",
      "Size of Hidden Layer: nh =  25\n"
     ]
    }
   ],
   "source": [
    "(nx,ny,nh) = Size_of_Layers(X,y,25)\n",
    "\n",
    "print(\"Size of Input Layer: nx = \",nx)\n",
    "print(\"Size of Output Layer: ny = \",ny)\n",
    "print(\"Size of Hidden Layer: nh = \",nh)"
   ]
  },
  {
   "cell_type": "code",
   "execution_count": 296,
   "id": "858a525e",
   "metadata": {},
   "outputs": [],
   "source": [
    "def Initialize_Params(nx,ny,nh):\n",
    "    w1 = np.random.randn(nh,nx)*0.01\n",
    "    b1 = np.zeros((nh,1))\n",
    "    w2 = np.random.randn(ny,nh)*0.01\n",
    "    b2 = np.zeros((ny,1))\n",
    "    \n",
    "    Params = {\n",
    "        \"W1\":w1,\n",
    "        \"b1\":b1,\n",
    "        \"W2\":w2,\n",
    "        \"b2\":b2\n",
    "    }\n",
    "    \n",
    "    return Params"
   ]
  },
  {
   "cell_type": "code",
   "execution_count": 297,
   "id": "2fd6170d",
   "metadata": {},
   "outputs": [
    {
     "name": "stdout",
     "output_type": "stream",
     "text": [
      "W1 =  [[-0.01002517  0.0133083   0.00690559 ...  0.01746813  0.00677556\n",
      "   0.00036557]\n",
      " [ 0.00794967  0.00354774  0.00350773 ... -0.0074044   0.01057707\n",
      "   0.00499642]\n",
      " [ 0.0012818   0.00217224  0.00361848 ...  0.01563954  0.00169755\n",
      "  -0.01121573]\n",
      " ...\n",
      " [-0.00567123 -0.00623306  0.00405402 ...  0.01332095 -0.01025733\n",
      "  -0.00686454]\n",
      " [-0.00836577 -0.00526455 -0.00713361 ... -0.00899052  0.00105142\n",
      "  -0.00342381]\n",
      " [-0.01400419  0.00745831 -0.0073346  ... -0.00539906 -0.00272982\n",
      "   0.0036199 ]]\n",
      "b1 =  [[0.]\n",
      " [0.]\n",
      " [0.]\n",
      " [0.]\n",
      " [0.]\n",
      " [0.]\n",
      " [0.]\n",
      " [0.]\n",
      " [0.]\n",
      " [0.]\n",
      " [0.]\n",
      " [0.]\n",
      " [0.]\n",
      " [0.]\n",
      " [0.]\n",
      " [0.]\n",
      " [0.]\n",
      " [0.]\n",
      " [0.]\n",
      " [0.]\n",
      " [0.]\n",
      " [0.]\n",
      " [0.]\n",
      " [0.]\n",
      " [0.]]\n",
      "W2 =  [[ 1.29618106e-02  1.77549045e-02 -9.29313903e-03  9.50982716e-03\n",
      "   9.27187338e-03 -3.54681929e-03  1.00127254e-03  2.22768677e-02\n",
      "  -8.22826565e-04 -5.95333380e-03 -7.45635325e-03 -8.46038307e-03\n",
      "  -8.86575804e-03 -1.17879643e-03 -5.57335204e-04 -3.34049901e-03\n",
      "   1.29587021e-02 -1.46250335e-02  8.03860479e-03 -5.41312180e-03\n",
      "   1.05873851e-02 -1.17679085e-02  9.22997831e-03  4.70979165e-03\n",
      "  -8.56124015e-03]\n",
      " [ 6.83001646e-03 -5.35795580e-03 -6.59241776e-03 -6.35739839e-03\n",
      "   1.10826242e-02 -1.27357700e-02 -1.05686761e-02  1.37301198e-02\n",
      "   2.56279463e-03  4.17824388e-03 -5.52339310e-03 -9.30740515e-03\n",
      "   8.47278332e-03 -5.06832920e-03 -1.35953218e-02 -1.72039197e-04\n",
      "  -2.45587569e-03 -2.76551882e-03 -3.87353199e-03  1.49853693e-03\n",
      "   1.25951422e-02  2.73525214e-03  2.59498627e-03 -1.23356392e-02\n",
      "  -5.26940535e-03]\n",
      " [-1.53848586e-03 -1.65695737e-02  2.37980560e-03 -6.33747130e-03\n",
      "  -1.41721058e-02 -5.07815118e-04  5.18856246e-03  1.18831760e-02\n",
      "   1.09175717e-02 -7.87502708e-03 -5.34088841e-03  1.13246724e-02\n",
      "  -3.98225422e-03  7.71634176e-03  7.12968903e-03 -1.15957966e-02\n",
      "   5.93423793e-03  5.30321737e-03 -7.65356226e-03  4.34645293e-03\n",
      "   3.48523384e-03 -9.98351606e-03  3.36997293e-03 -6.73109428e-03\n",
      "  -2.90764999e-03]\n",
      " [ 3.85252399e-03  2.19574317e-03  1.43788290e-02  1.33618563e-02\n",
      "  -1.01392210e-02  5.86079297e-03  1.22041294e-02  2.22759204e-03\n",
      "  -8.60581833e-05 -1.20231003e-02 -1.96907373e-03  5.21152993e-03\n",
      "  -7.55056007e-03 -8.32176184e-03  1.19004121e-02  1.05939668e-02\n",
      "  -8.54862839e-03 -1.11101939e-02  3.17938147e-03  1.41339260e-02\n",
      "   6.72318233e-03  6.09687412e-03  3.58812506e-03  7.15647386e-03\n",
      "  -1.11803197e-02]\n",
      " [-2.83717213e-04 -1.02866488e-03 -2.12561277e-04 -4.02940861e-03\n",
      "   1.39318989e-02  1.61174704e-03  9.67840616e-03  5.51925609e-03\n",
      "   1.07702457e-02  1.03022460e-02  3.97236646e-03 -2.08273824e-02\n",
      "   8.91344015e-03  1.19196243e-03 -6.22740452e-03  5.16616377e-03\n",
      "  -1.33221186e-03 -4.97254237e-03  1.58156782e-03  4.39093822e-03\n",
      "   2.00196433e-02 -6.51757688e-04  7.32758138e-04  7.05657305e-03\n",
      "   1.52638012e-02]\n",
      " [ 9.30343528e-03  1.08816881e-02  5.55294082e-03 -6.19346264e-03\n",
      "  -1.26526071e-02  5.13246282e-03 -5.41038325e-03 -8.22950697e-03\n",
      "   4.08834568e-03  1.23503755e-02 -5.74960846e-03  5.95132877e-03\n",
      "   1.01941874e-02 -5.27661542e-03 -8.21672929e-03 -7.84848239e-03\n",
      "   4.69313869e-03 -9.67193578e-03  1.18605988e-03 -1.68593671e-02\n",
      "   7.01832436e-03  1.94215788e-04  2.13777303e-03 -2.61773822e-02\n",
      "  -3.84462936e-03]\n",
      " [ 7.00921663e-03  7.23789093e-05 -3.82781798e-03  8.07854556e-03\n",
      "  -3.68891916e-04  3.26074094e-03  4.76394438e-03 -3.24687034e-03\n",
      "  -1.09272395e-02 -2.48023297e-03 -2.77407432e-03 -2.45421750e-02\n",
      "   1.10883779e-03  1.07580612e-02  3.72863040e-03 -2.53609876e-03\n",
      "  -1.03934789e-02  1.60236401e-02 -8.74920558e-03  6.89525176e-03\n",
      "  -2.08979781e-03 -1.02335602e-02 -9.64540835e-04  1.65267862e-02\n",
      "  -1.03832663e-02]\n",
      " [-2.06233096e-03 -4.28889375e-03 -3.07232797e-03 -4.65971477e-03\n",
      "   2.51821723e-03 -5.55252258e-04 -1.20363301e-03 -8.42784029e-03\n",
      "  -1.10007035e-02  5.78700741e-03 -8.92089480e-03 -3.36272931e-03\n",
      "   1.26758814e-02  9.75026601e-03 -7.83459955e-04 -1.83515836e-02\n",
      "  -1.67653317e-02  2.38711394e-03 -1.18389081e-02 -7.46361254e-04\n",
      "   8.40144382e-03  2.08819365e-03  1.39594111e-02 -5.82521789e-03\n",
      "   1.13006287e-02]\n",
      " [ 8.97907845e-03 -9.78613935e-03  1.84489316e-02 -6.69415049e-03\n",
      "  -2.62819236e-03 -4.42150430e-03  4.65264558e-03  2.04173399e-02\n",
      "  -2.93398662e-03 -2.34586438e-03 -1.02323176e-02  2.17471980e-03\n",
      "   1.74981754e-02 -1.51007310e-02 -8.43871330e-04  1.22093293e-02\n",
      "   6.94690939e-03  1.58210259e-02  7.47821202e-03 -5.35170536e-03\n",
      "  -9.51409664e-03  8.06378796e-03  2.58155767e-03  2.31835068e-03\n",
      "   4.05846565e-03]\n",
      " [ 4.11812449e-03 -2.29767516e-03  1.19601410e-02 -1.25823835e-02\n",
      "   1.05971789e-02 -6.92733009e-03  1.06550528e-02  8.88227886e-03\n",
      "  -1.25795892e-02  1.39703238e-02  9.65782045e-03  3.25023117e-03\n",
      "   1.36116368e-02 -8.89260162e-03  2.94101965e-03 -1.19855451e-02\n",
      "  -8.54919418e-03 -6.49303360e-03  1.22756770e-02  2.71156531e-03\n",
      "  -8.72900777e-04 -1.71421307e-02  1.18289286e-02 -5.25274497e-03\n",
      "  -4.51796708e-03]]\n",
      "b2 =  [[0.]\n",
      " [0.]\n",
      " [0.]\n",
      " [0.]\n",
      " [0.]\n",
      " [0.]\n",
      " [0.]\n",
      " [0.]\n",
      " [0.]\n",
      " [0.]]\n"
     ]
    }
   ],
   "source": [
    "Params = Initialize_Params(nx,ny,nh)\n",
    "\n",
    "print(\"W1 = \",Params[\"W1\"])\n",
    "print(\"b1 = \",Params[\"b1\"])\n",
    "print(\"W2 = \",Params[\"W2\"])\n",
    "print(\"b2 = \",Params[\"b2\"])"
   ]
  },
  {
   "cell_type": "code",
   "execution_count": 298,
   "id": "7292c2ca",
   "metadata": {},
   "outputs": [],
   "source": [
    "def Sigmoid_Activation(z):\n",
    "    return (1/(1+ np.exp(-z)))"
   ]
  },
  {
   "cell_type": "code",
   "execution_count": 299,
   "id": "a5132bb4",
   "metadata": {},
   "outputs": [],
   "source": [
    "def forward_propagation(X, parameters):\n",
    "    W1 = parameters[\"W1\"]\n",
    "    b1 = parameters[\"b1\"]\n",
    "    W2 = parameters[\"W2\"]\n",
    "    b2 = parameters[\"b2\"]\n",
    "    \n",
    "    Z1 = np.dot(X,W1.T) + b1.T\n",
    "    A1 = Sigmoid_Activation(Z1)\n",
    "    Z2 = np.dot(A1,W2.T) + b2.T\n",
    "    A2 = Sigmoid_Activation(Z2)\n",
    "    \n",
    "    cache = {\n",
    "        \"Z1\":Z1 ,\n",
    "        \"A1\":A1,\n",
    "        \"Z2\":Z2,\n",
    "        \"A2\":A2\n",
    "    }\n",
    "    \n",
    "    return A2, cache"
   ]
  },
  {
   "cell_type": "code",
   "execution_count": 300,
   "id": "d14acbee",
   "metadata": {},
   "outputs": [],
   "source": [
    "y_out,cache = forward_propagation(X, Params)"
   ]
  },
  {
   "cell_type": "code",
   "execution_count": 301,
   "id": "a507073a",
   "metadata": {},
   "outputs": [],
   "source": [
    "def Compute_Cost(y_out,y_org,m):\n",
    "    logprobs = np.multiply(y_org,np.log(y_out)) + np.multiply((1 - y_org),np.log(1 - y_out))\n",
    "    cost = -np.sum(logprobs)/m\n",
    "    return cost"
   ]
  },
  {
   "cell_type": "code",
   "execution_count": 302,
   "id": "24d7f81f",
   "metadata": {},
   "outputs": [
    {
     "name": "stdout",
     "output_type": "stream",
     "text": [
      "The cost after one forward iteration =  6.951857474634402\n"
     ]
    }
   ],
   "source": [
    "m = 5000\n",
    "Cost = Compute_Cost(y_out,y_org,m)\n",
    "print(\"The cost after one forward iteration = \",Cost)"
   ]
  },
  {
   "cell_type": "code",
   "execution_count": 303,
   "id": "1d9eb692",
   "metadata": {},
   "outputs": [],
   "source": [
    "def Backward_propagation(X,y_org,y_out,cache,parameters,m):\n",
    "    W1 = parameters[\"W1\"]\n",
    "    b1 = parameters[\"b1\"]\n",
    "    W2 = parameters[\"W2\"]\n",
    "    b2 = parameters[\"b2\"]\n",
    "    \n",
    "    Z1 = cache[\"Z1\"]\n",
    "    A1 = cache[\"A1\"]\n",
    "    Z2 = cache[\"Z2\"]\n",
    "    A2 = cache[\"A2\"]\n",
    "    \n",
    "    dZ2 = y_out - y_org\n",
    "    dW2 = (1/m) * np.dot(dZ2.T,A1)\n",
    "    db2 = (1/m) * np.sum(dZ2,axis = 0,keepdims=True)\n",
    "    dZ1 = np.multiply(np.dot(dZ2,W2),A1*(1 - A1))\n",
    "    db1 = (1/m) * np.sum(dZ1,axis = 0,keepdims=True)\n",
    "    dW1 = (1/m) * np.dot(dZ1.T,X)\n",
    "      \n",
    "    grad = {\n",
    "        \"dW1\": dW1,\n",
    "        \"db1\": db1,\n",
    "        \"dW2\": dW2,\n",
    "        \"db2\": db2\n",
    "    }\n",
    "    \n",
    "    return grad"
   ]
  },
  {
   "cell_type": "code",
   "execution_count": 304,
   "id": "30868cf9",
   "metadata": {},
   "outputs": [],
   "source": [
    "grad = Backward_propagation(X,y_org,y_out,cache,Params,m)"
   ]
  },
  {
   "cell_type": "code",
   "execution_count": 305,
   "id": "95e00f08",
   "metadata": {},
   "outputs": [
    {
     "name": "stdout",
     "output_type": "stream",
     "text": [
      "(25, 400)\n",
      "(1, 25)\n",
      "(10, 25)\n",
      "(1, 10)\n"
     ]
    }
   ],
   "source": [
    "print(grad[\"dW1\"].shape)\n",
    "print(grad[\"db1\"].shape)\n",
    "print(grad[\"dW2\"].shape)\n",
    "print(grad[\"db2\"].shape)"
   ]
  },
  {
   "cell_type": "code",
   "execution_count": 306,
   "id": "5c4178a5",
   "metadata": {},
   "outputs": [],
   "source": [
    "def Update_Params(grad,cache,parameters, learning_rate = 1.0):\n",
    "    W1 = parameters[\"W1\"]\n",
    "    b1 = parameters[\"b1\"]\n",
    "    W2 = parameters[\"W2\"]\n",
    "    b2 = parameters[\"b2\"]\n",
    "    \n",
    "    Z1 = cache[\"Z1\"]\n",
    "    A1 = cache[\"A1\"]\n",
    "    Z2 = cache[\"Z2\"]\n",
    "    A2 = cache[\"A2\"]\n",
    "    \n",
    "    dW1 = grad[\"dW1\"]\n",
    "    db1 = grad[\"db1\"]\n",
    "    dW2 = grad[\"dW2\"]\n",
    "    db2 = grad[\"db2\"]\n",
    "    \n",
    "    W1 = W1 - learning_rate * dW1\n",
    "    b1 = b1 - learning_rate * db1.T\n",
    "    W2 = W2 - learning_rate * dW2\n",
    "    b2 = b2 - learning_rate * db2.T\n",
    "    \n",
    "    parameters = {\"W1\": W1,\n",
    "                  \"b1\": b1,\n",
    "                  \"W2\": W2,\n",
    "                  \"b2\": b2}\n",
    "    \n",
    "    return parameters"
   ]
  },
  {
   "cell_type": "code",
   "execution_count": 307,
   "id": "eed4c32e",
   "metadata": {},
   "outputs": [],
   "source": [
    "parameters = Update_Params(grad,cache,Params)"
   ]
  },
  {
   "cell_type": "code",
   "execution_count": 308,
   "id": "4bbbb0bf",
   "metadata": {},
   "outputs": [],
   "source": [
    "def Neural_Network(X,y_org,m,nh,num_iterations=1000,print_cost=True):\n",
    "    \n",
    "    # setup the size of each layer\n",
    "    (nx,ny,nh) = Size_of_Layers(X,y,nh)\n",
    "    \n",
    "    # Initialize the Parameters (weights & biases)\n",
    "    Params = Initialize_Params(nx,ny,nh)\n",
    "    \n",
    "    #Steps in each Iterations include\n",
    "    \"\"\"\n",
    "    1. Forward Iteration\n",
    "    2. Compute Cost\n",
    "    3. Backward Propagation\n",
    "    4. Update Parameters\n",
    "    \"\"\"\n",
    "    for i in range(num_iterations):\n",
    "        \n",
    "        # Forward Propagation\n",
    "        y_out,cache = forward_propagation(X, Params)\n",
    "        \n",
    "        # Compute Cost\n",
    "        Cost = Compute_Cost(y_out,y_org,m)\n",
    "        \n",
    "        # Backward Propagation\n",
    "        grad = Backward_propagation(X,y_org,y_out,cache,Params,m)\n",
    "        \n",
    "        # Update the parameters\n",
    "        Params = Update_Params(grad,cache,Params)\n",
    "        \n",
    "        if (i % 100 == 0 or i == 999) and print_cost == True:\n",
    "            print(\"Cost at iteration \" + str(i) + \" - \" + str(Cost))\n",
    "    \n",
    "    return Params"
   ]
  },
  {
   "cell_type": "code",
   "execution_count": 310,
   "id": "e830bb0d",
   "metadata": {},
   "outputs": [
    {
     "name": "stdout",
     "output_type": "stream",
     "text": [
      "Cost at iteration 0 - 6.95280939908776\n",
      "Cost at iteration 100 - 1.6109734014568764\n",
      "Cost at iteration 200 - 0.908386653649041\n",
      "Cost at iteration 300 - 0.6693332383718826\n",
      "Cost at iteration 400 - 0.5597706900169179\n",
      "Cost at iteration 500 - 0.4945364267997174\n",
      "Cost at iteration 600 - 0.4487650742274711\n",
      "Cost at iteration 700 - 0.41371809297475165\n",
      "Cost at iteration 800 - 0.3853615690166952\n",
      "Cost at iteration 900 - 0.36153076066612566\n",
      "Cost at iteration 999 - 0.3411304576383559\n"
     ]
    }
   ],
   "source": [
    "parameters = Neural_Network(X,y_org,m,nh)"
   ]
  },
  {
   "cell_type": "code",
   "execution_count": 311,
   "id": "12a2a639",
   "metadata": {},
   "outputs": [],
   "source": [
    "def Predict(parameters,X):\n",
    "    \n",
    "    # Use the trained weights to find the predictions\n",
    "    A2, cache = forward_propagation(X, parameters)\n",
    "    predictions = A2 > 0.5\n",
    "    \n",
    "    return predictions"
   ]
  },
  {
   "cell_type": "code",
   "execution_count": 312,
   "id": "98280062",
   "metadata": {},
   "outputs": [
    {
     "name": "stdout",
     "output_type": "stream",
     "text": [
      "The Accuracy on the Training set of Samples: 92.86\n"
     ]
    }
   ],
   "source": [
    "pred = Predict(parameters,X)\n",
    "\n",
    "final_prediction = np.argmax(pred,axis = 1)\n",
    "\n",
    "#Accuracy on training set \n",
    "\n",
    "print(\"The Accuracy on the Training set of Samples:\",np.mean(final_prediction == y)*100)"
   ]
  },
  {
   "cell_type": "markdown",
   "id": "3d3c45ad",
   "metadata": {},
   "source": [
    "## Tuning Hidden Layer Size"
   ]
  },
  {
   "cell_type": "code",
   "execution_count": 314,
   "id": "493df0e2",
   "metadata": {},
   "outputs": [],
   "source": [
    "def Tune_hidden_layer_size(X,y_org,y,m):\n",
    "    \n",
    "    hidden_layer_sizes = [25,30,35,40,45,50]\n",
    "    num_iterations = 1000\n",
    "    print_cost = False\n",
    "    for i in range(len(hidden_layer_sizes)):\n",
    "        \n",
    "        parameters = Neural_Network(X,y_org,m,hidden_layer_sizes[i],num_iterations,print_cost)\n",
    "        \n",
    "        pred = Predict(parameters,X)\n",
    "        \n",
    "        final_prediction = np.argmax(pred,axis = 1)\n",
    "        \n",
    "        print(\"The Accuracy for hidden layer size of \" + str(hidden_layer_sizes[i]) + \" :\",np.mean(final_prediction == y)*100)"
   ]
  },
  {
   "cell_type": "code",
   "execution_count": 315,
   "id": "145349bf",
   "metadata": {},
   "outputs": [
    {
     "name": "stdout",
     "output_type": "stream",
     "text": [
      "The Accuracy for hidden layer size of 25 : 92.88\n",
      "The Accuracy for hidden layer size of 30 : 93.17999999999999\n",
      "The Accuracy for hidden layer size of 35 : 92.74\n",
      "The Accuracy for hidden layer size of 40 : 92.78\n",
      "The Accuracy for hidden layer size of 45 : 93.17999999999999\n",
      "The Accuracy for hidden layer size of 50 : 93.12\n"
     ]
    }
   ],
   "source": [
    "Tune_hidden_layer_size(X,y_org,y,m)"
   ]
  }
 ],
 "metadata": {
  "kernelspec": {
   "display_name": "Python 3",
   "language": "python",
   "name": "python3"
  },
  "language_info": {
   "codemirror_mode": {
    "name": "ipython",
    "version": 3
   },
   "file_extension": ".py",
   "mimetype": "text/x-python",
   "name": "python",
   "nbconvert_exporter": "python",
   "pygments_lexer": "ipython3",
   "version": "3.8.8"
  }
 },
 "nbformat": 4,
 "nbformat_minor": 5
}
