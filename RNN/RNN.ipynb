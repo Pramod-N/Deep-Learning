{
 "cells": [
  {
   "cell_type": "markdown",
   "id": "e98b18eb",
   "metadata": {},
   "source": [
    "In this notebook, i have implemented RNN from scratch"
   ]
  },
  {
   "cell_type": "code",
   "execution_count": 1,
   "id": "0d77fdc9",
   "metadata": {},
   "outputs": [],
   "source": [
    "import numpy as np"
   ]
  },
  {
   "cell_type": "code",
   "execution_count": 2,
   "id": "5c0fb975",
   "metadata": {},
   "outputs": [],
   "source": [
    "def softmax(x):\n",
    "    e_x = np.exp(x - np.max(x))\n",
    "    return e_x / e_x.sum(axis=0)"
   ]
  },
  {
   "cell_type": "markdown",
   "id": "7340d148",
   "metadata": {},
   "source": [
    "### Forward Propagation"
   ]
  },
  {
   "cell_type": "markdown",
   "id": "36533644",
   "metadata": {},
   "source": [
    "#### One step forward"
   ]
  },
  {
   "cell_type": "markdown",
   "id": "efa114e6",
   "metadata": {},
   "source": [
    "The below cell, implements one cell of the RNN forward propagation"
   ]
  },
  {
   "cell_type": "code",
   "execution_count": 3,
   "id": "862cd095",
   "metadata": {},
   "outputs": [],
   "source": [
    "def rnn_cell_forward(xt, a_prev, parameters):\n",
    "    \"\"\"\n",
    "    xt = denotes the input at timestamp t (n_x,m)\n",
    "    a_prev = denotes the prevous layer activation forwarded to the next layer (n_a,m)\n",
    "    parameters -- python dictionary containing:\n",
    "                        Wax -- Weight matrix multiplying the input, numpy array of shape (n_a, n_x)\n",
    "                        Waa -- Weight matrix multiplying the hidden state, numpy array of shape (n_a, n_a)\n",
    "                        Wya -- Weight matrix relating the hidden-state to the output, numpy array of shape (n_y, n_a)\n",
    "                        ba --  Bias, numpy array of shape (n_a, 1)\n",
    "                        by -- Bias relating the hidden-state to the output, numpy array of shape (n_y, 1)\n",
    "    \"\"\"\n",
    "    \n",
    "    #Retrieve the parameters\n",
    "    Wax = parameters[\"Wax\"]\n",
    "    Waa = parameters[\"Waa\"]\n",
    "    Wya = parameters[\"Wya\"]\n",
    "    ba = parameters[\"ba\"]\n",
    "    by = parameters[\"by\"]\n",
    "    \n",
    "    #predict activation for next step\n",
    "    a_next = np.tanh(np.dot(Wax,xt) + np.dot(a_prev.T,Waa).T + ba)\n",
    "    \n",
    "    #predict output at timestamp t\n",
    "    yt_pred = softmax(np.dot(Wya,a_next) + by)\n",
    "    \n",
    "    # store values you need for backward propagation in cache\n",
    "    cache = (a_next, a_prev, xt, parameters)\n",
    "    \n",
    "    return a_next, yt_pred, cache"
   ]
  },
  {
   "cell_type": "code",
   "execution_count": 4,
   "id": "c849adc2",
   "metadata": {},
   "outputs": [],
   "source": [
    "np.random.seed(1)\n",
    "xt_tmp = np.random.randn(3,10)\n",
    "a_prev_tmp = np.random.randn(5,10)\n",
    "parameters_tmp = {}\n",
    "parameters_tmp['Waa'] = np.random.randn(5,5)\n",
    "parameters_tmp['Wax'] = np.random.randn(5,3)\n",
    "parameters_tmp['Wya'] = np.random.randn(2,5)\n",
    "parameters_tmp['ba'] = np.random.randn(5,1)\n",
    "parameters_tmp['by'] = np.random.randn(2,1)\n",
    "\n",
    "a_next_tmp, yt_pred_tmp, cache_tmp = rnn_cell_forward(xt_tmp, a_prev_tmp, parameters_tmp)"
   ]
  },
  {
   "cell_type": "markdown",
   "id": "3e9add2c",
   "metadata": {},
   "source": [
    "#### All steps forward"
   ]
  },
  {
   "cell_type": "markdown",
   "id": "eaa5b256",
   "metadata": {},
   "source": [
    "The below cell implements, the forward propagation of RNN (for all cell)"
   ]
  },
  {
   "cell_type": "code",
   "execution_count": 5,
   "id": "f7b41b33",
   "metadata": {},
   "outputs": [],
   "source": [
    "def rnn_forward(x, a0, parameters):\n",
    "    \"\"\"\n",
    "    x = Input of size(n_x,m,T_x) where T_x is a time step\n",
    "    a0 = Initial activation (n_a,m)\n",
    "    parameters -- python dictionary containing:\n",
    "                        Waa -- Weight matrix multiplying the hidden state, numpy array of shape (n_a, n_a)\n",
    "                        Wax -- Weight matrix multiplying the input, numpy array of shape (n_a, n_x)\n",
    "                        Wya -- Weight matrix relating the hidden-state to the output, numpy array of shape (n_y, n_a)\n",
    "                        ba --  Bias numpy array of shape (n_a, 1)\n",
    "                        by -- Bias relating the hidden-state to the output, numpy array of shape (n_y, 1)\n",
    "    \"\"\"\n",
    "    #Retrieve the parameters\n",
    "    Wax = parameters[\"Wax\"]\n",
    "    Waa = parameters[\"Waa\"]\n",
    "    Wya = parameters[\"Wya\"]\n",
    "    ba = parameters[\"ba\"]\n",
    "    by = parameters[\"by\"]\n",
    "    \n",
    "    n_x,m,T_x = x.shape\n",
    "    n_y,n_a = Wya.shape\n",
    "    \n",
    "    #Contains list of caches which helps in Backpropagation\n",
    "    caches = []\n",
    "    \n",
    "    a = np.zeros([n_a,m,T_x])\n",
    "    y_pred = np.zeros([n_y,m,T_x])\n",
    "    \n",
    "    a_next = a0\n",
    "    \n",
    "    for t in range(T_x):\n",
    "        #compute activation & output at time step t\n",
    "        a_next,ypred,cache = rnn_cell_forward(x[:,:,t], a_next, parameters) \n",
    "        \n",
    "        #add the activation value to its corresponding time step\n",
    "        a[:,:,t] = a_next\n",
    "        \n",
    "        #add the output value to its corresponding time step\n",
    "        y_pred[:,:,t] = ypred\n",
    "        \n",
    "        # append the cache\n",
    "        caches.append(cache)\n",
    "        \n",
    "    # store values needed for backward propagation in cache\n",
    "    caches = (caches, x)\n",
    "    \n",
    "    return a, y_pred, caches"
   ]
  },
  {
   "cell_type": "code",
   "execution_count": 6,
   "id": "34961b06",
   "metadata": {},
   "outputs": [],
   "source": [
    "np.random.seed(1)\n",
    "x_tmp = np.random.randn(3,10,4)\n",
    "a0_tmp = np.random.randn(5,10)\n",
    "parameters_tmp = {}\n",
    "parameters_tmp['Waa'] = np.random.randn(5,5)\n",
    "parameters_tmp['Wax'] = np.random.randn(5,3)\n",
    "parameters_tmp['Wya'] = np.random.randn(2,5)\n",
    "parameters_tmp['ba'] = np.random.randn(5,1)\n",
    "parameters_tmp['by'] = np.random.randn(2,1)\n",
    "\n",
    "a_tmp, y_pred_tmp, caches_tmp = rnn_forward(x_tmp, a0_tmp, parameters_tmp)"
   ]
  },
  {
   "cell_type": "markdown",
   "id": "f93cfcf4",
   "metadata": {},
   "source": [
    "### Backward Propagation"
   ]
  },
  {
   "cell_type": "markdown",
   "id": "32bdd17d",
   "metadata": {},
   "source": [
    "#### One step backward"
   ]
  },
  {
   "cell_type": "code",
   "execution_count": 7,
   "id": "565f5ea6",
   "metadata": {},
   "outputs": [],
   "source": [
    "def rnn_cell_backward(da_next, cache):\n",
    "    \"\"\"\n",
    "    da_next = Gradient of loss with respect to next hidden state\n",
    "    cache = python dictionary(output of rnn_cell_forward())\n",
    "    \"\"\"\n",
    "    \n",
    "    a_next, a_prev, xt, parameters = cache\n",
    "    \n",
    "    #Retrieve the parameters\n",
    "    Wax = parameters[\"Wax\"]\n",
    "    Waa = parameters[\"Waa\"]\n",
    "    Wya = parameters[\"Wya\"]\n",
    "    ba = parameters[\"ba\"]\n",
    "    by = parameters[\"by\"]\n",
    "    \n",
    "    dtanh = (1 - a_next*a_next)*da_next\n",
    "    \n",
    "    # compute the gradient of the loss with respect to Wax (≈2 lines)\n",
    "    dxt = np.dot(Wax.T,  dtanh)\n",
    "    dWax = np.dot(dtanh,xt.T)\n",
    "\n",
    "    # compute the gradient with respect to Waa (≈2 lines)\n",
    "    da_prev = np.dot(Waa.T, dtanh)  \n",
    "    dWaa = np.dot( dtanh,a_prev.T)\n",
    "\n",
    "    # compute the gradient with respect to b (≈1 line)\n",
    "    dba = np.sum( dtanh,keepdims=True,axis=1)\n",
    "\n",
    "    ### END CODE HERE ###\n",
    "    \n",
    "    # Store the gradients in a python dictionary\n",
    "    gradients = {\"dxt\": dxt, \"da_prev\": da_prev, \"dWax\": dWax, \"dWaa\": dWaa, \"dba\": dba}\n",
    "    \n",
    "    return gradients"
   ]
  },
  {
   "cell_type": "code",
   "execution_count": 8,
   "id": "4b80e704",
   "metadata": {},
   "outputs": [],
   "source": [
    "np.random.seed(1)\n",
    "xt_tmp = np.random.randn(3,10)\n",
    "a_prev_tmp = np.random.randn(5,10)\n",
    "parameters_tmp = {}\n",
    "parameters_tmp['Wax'] = np.random.randn(5,3)\n",
    "parameters_tmp['Waa'] = np.random.randn(5,5)\n",
    "parameters_tmp['Wya'] = np.random.randn(2,5)\n",
    "parameters_tmp['ba'] = np.random.randn(5,1)\n",
    "parameters_tmp['by'] = np.random.randn(2,1)\n",
    "\n",
    "a_next_tmp, yt_tmp, cache_tmp = rnn_cell_forward(xt_tmp, a_prev_tmp, parameters_tmp)\n",
    "\n",
    "da_next_tmp = np.random.randn(5,10)\n",
    "gradients_tmp = rnn_cell_backward(da_next_tmp, cache_tmp)"
   ]
  },
  {
   "cell_type": "markdown",
   "id": "264d4ec3",
   "metadata": {},
   "source": [
    "#### All steps backward"
   ]
  },
  {
   "cell_type": "code",
   "execution_count": 9,
   "id": "6d1ae672",
   "metadata": {},
   "outputs": [],
   "source": [
    "def rnn_backward(da, caches):\n",
    "    \"\"\"\n",
    "    da -- Upstream gradients of all hidden states, of shape (n_a, m, T_x)\n",
    "    caches -- tuple containing information from the forward pass (rnn_forward)\n",
    "    \n",
    "    \"\"\"\n",
    "    (caches, x) = caches\n",
    "    \n",
    "    (a1,a0,x1,parameters) = caches[0]\n",
    "    \n",
    "    n_a,m,T_x = da.shape\n",
    "    \n",
    "    n_x,m = x1.shape\n",
    "    \n",
    "    #initialize the gradients\n",
    "    dx = np.zeros((n_x, m, T_x)) \n",
    "    dWax = np.zeros((n_a, n_x))\n",
    "    dWaa = np.zeros((n_a, n_a))\n",
    "    dba = np.zeros((n_a, 1)) \n",
    "    da0 = np.zeros((n_a, m))\n",
    "    da_prevt = np.zeros((n_a, m))  \n",
    "    \n",
    "    for t in reversed(range(T_x)):\n",
    "        \n",
    "        gradients = rnn_cell_backward(da[:, :, t] + da_prevt, caches[t])\n",
    "        \n",
    "        # Retrieve derivatives from gradients\n",
    "        dxt, da_prevt, dWaxt, dWaat, dbat = gradients[\"dxt\"], gradients[\"da_prev\"], gradients[\"dWax\"], gradients[\"dWaa\"], gradients[\"dba\"]\n",
    "        \n",
    "        # Increment global derivatives w.r.t parameters by adding their derivative at time-step t\n",
    "        dx[:, :, t] = dxt  \n",
    "        dWax += dWaxt  \n",
    "        dWaa += dWaat  \n",
    "        dba += dbat  \n",
    "        \n",
    "    # Set da0 to the gradient of a which has been backpropagated through all time-steps\n",
    "    da0 = da_prevt\n",
    "\n",
    "    # Store the gradients\n",
    "    gradients = {\"dx\": dx, \"da0\": da0, \"dWax\": dWax, \"dWaa\": dWaa,\"dba\": dba}\n",
    "    \n",
    "    return gradients"
   ]
  },
  {
   "cell_type": "code",
   "execution_count": 10,
   "id": "0846fa09",
   "metadata": {},
   "outputs": [],
   "source": [
    "np.random.seed(1)\n",
    "x_tmp = np.random.randn(3,10,4)\n",
    "a0_tmp = np.random.randn(5,10)\n",
    "parameters_tmp = {}\n",
    "parameters_tmp['Wax'] = np.random.randn(5,3)\n",
    "parameters_tmp['Waa'] = np.random.randn(5,5)\n",
    "parameters_tmp['Wya'] = np.random.randn(2,5)\n",
    "parameters_tmp['ba'] = np.random.randn(5,1)\n",
    "parameters_tmp['by'] = np.random.randn(2,1)\n",
    "\n",
    "a_tmp, y_tmp, caches_tmp = rnn_forward(x_tmp, a0_tmp, parameters_tmp)\n",
    "da_tmp = np.random.randn(5, 10, 4)\n",
    "gradients_tmp = rnn_backward(da_tmp, caches_tmp)"
   ]
  }
 ],
 "metadata": {
  "kernelspec": {
   "display_name": "Python 3",
   "language": "python",
   "name": "python3"
  },
  "language_info": {
   "codemirror_mode": {
    "name": "ipython",
    "version": 3
   },
   "file_extension": ".py",
   "mimetype": "text/x-python",
   "name": "python",
   "nbconvert_exporter": "python",
   "pygments_lexer": "ipython3",
   "version": "3.8.8"
  }
 },
 "nbformat": 4,
 "nbformat_minor": 5
}
